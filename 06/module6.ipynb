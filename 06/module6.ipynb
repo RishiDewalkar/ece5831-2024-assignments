{
 "cells": [
  {
   "cell_type": "code",
   "execution_count": 23,
   "metadata": {},
   "outputs": [],
   "source": [
    "import numpy as np"
   ]
  },
  {
   "cell_type": "code",
   "execution_count": 24,
   "metadata": {},
   "outputs": [],
   "source": [
    "def mean_squared_error(y_hat, y):\n",
    "    return np.sum((y_hat - y)**2)/y.size"
   ]
  },
  {
   "cell_type": "code",
   "execution_count": 25,
   "metadata": {},
   "outputs": [
    {
     "data": {
      "text/plain": [
       "np.float64(0.025000000000000022)"
      ]
     },
     "execution_count": 25,
     "metadata": {},
     "output_type": "execute_result"
    }
   ],
   "source": [
    "y = np.array([1,2,3,4])\n",
    "y_hat1 = np.array([1.2, 1.9, 2.9, 4.2])\n",
    "mean_squared_error(y_hat1, y)"
   ]
  },
  {
   "cell_type": "code",
   "execution_count": 26,
   "metadata": {},
   "outputs": [
    {
     "data": {
      "text/plain": [
       "np.float64(1.0250000000000004)"
      ]
     },
     "execution_count": 26,
     "metadata": {},
     "output_type": "execute_result"
    }
   ],
   "source": [
    "y_hat2 = np.array([2.2, 0.9, 2.9, 5.2])\n",
    "mean_squared_error(y_hat2, y)"
   ]
  },
  {
   "cell_type": "code",
   "execution_count": 27,
   "metadata": {},
   "outputs": [],
   "source": [
    "def cross_entropy_error(y_hat, y):\n",
    "    return -np.sum(y*np.log(y_hat + 1e-7))"
   ]
  },
  {
   "cell_type": "code",
   "execution_count": 28,
   "metadata": {},
   "outputs": [],
   "source": [
    "y = np.array([0, 1, 0, 0, 0])"
   ]
  },
  {
   "cell_type": "code",
   "execution_count": 29,
   "metadata": {},
   "outputs": [],
   "source": [
    "y_hat1 = np.array([0.1, 0.7, 0.1, 0.1, 0])"
   ]
  },
  {
   "cell_type": "code",
   "execution_count": 30,
   "metadata": {},
   "outputs": [
    {
     "data": {
      "text/plain": [
       "np.float64(0.3566748010815999)"
      ]
     },
     "execution_count": 30,
     "metadata": {},
     "output_type": "execute_result"
    }
   ],
   "source": [
    "cross_entropy_error(y_hat1, y)"
   ]
  },
  {
   "cell_type": "code",
   "execution_count": 31,
   "metadata": {},
   "outputs": [],
   "source": [
    "y_hat2 = np.array([0.7, 0.05, 0.05, 0.2, 0])"
   ]
  },
  {
   "cell_type": "code",
   "execution_count": 32,
   "metadata": {},
   "outputs": [
    {
     "data": {
      "text/plain": [
       "np.float64(2.9957302735559908)"
      ]
     },
     "execution_count": 32,
     "metadata": {},
     "output_type": "execute_result"
    }
   ],
   "source": [
    "cross_entropy_error(y_hat2, y)"
   ]
  },
  {
   "cell_type": "code",
   "execution_count": 33,
   "metadata": {},
   "outputs": [
    {
     "name": "stdout",
     "output_type": "stream",
     "text": [
      "File: train-images-idx3-ubyte.gz already exists.\n",
      "File: train-labels-idx1-ubyte.gz already exists.\n",
      "File: t10k-images-idx3-ubyte.gz already exists.\n",
      "File: t10k-labels-idx1-ubyte.gz already exists.\n",
      "Pickle: dataset/mnist.pkl already exists.\n",
      "Loading...\n",
      "Done.\n"
     ]
    }
   ],
   "source": [
    "import mnist\n",
    "my_mnist = mnist.Mnist()"
   ]
  },
  {
   "cell_type": "code",
   "execution_count": 34,
   "metadata": {},
   "outputs": [],
   "source": [
    "(train_images, train_labels), (_, _) = my_mnist.load()"
   ]
  },
  {
   "cell_type": "code",
   "execution_count": 35,
   "metadata": {},
   "outputs": [],
   "source": [
    "train_size = train_images.shape[0]\n",
    "batch_size = 32"
   ]
  },
  {
   "cell_type": "code",
   "execution_count": 36,
   "metadata": {},
   "outputs": [
    {
     "name": "stdout",
     "output_type": "stream",
     "text": [
      "[23030 18610 41027 37250 10059 49890 49578 48924 31162 32658 56952 19400\n",
      " 49530 36029 41333 44548  2172 21414 53832 36336 40435  9115 50560  2917\n",
      " 36844 48099 52507 13130 35613 35708  2827  2185]\n"
     ]
    }
   ],
   "source": [
    "batch_mask = np.random.choice(train_size, batch_size)\n",
    "print(batch_mask)"
   ]
  },
  {
   "cell_type": "code",
   "execution_count": 37,
   "metadata": {},
   "outputs": [
    {
     "data": {
      "text/plain": [
       "60000"
      ]
     },
     "execution_count": 37,
     "metadata": {},
     "output_type": "execute_result"
    }
   ],
   "source": [
    "train_size"
   ]
  },
  {
   "cell_type": "code",
   "execution_count": 38,
   "metadata": {},
   "outputs": [],
   "source": [
    "#for mini-batch training\n",
    "def cross_entropy_error(y_hat, y):\n",
    "    batch_size = 1 if y_hat.ndim == 1 else y_hat.shape[0]\n",
    "    return -np.sum(y*np.log(y_hat + 1e-7))/batch_size"
   ]
  },
  {
   "cell_type": "code",
   "execution_count": 39,
   "metadata": {},
   "outputs": [],
   "source": [
    "y_hat_batch = np.array([ [0.2, 0.2, 0.3, 0.1, 0.2], [0.1, 0.1, 0.1, 0.1, 0.6]])\n",
    "y_batch =     np.array([ [0,   0,   1,   0,    0],   [0,   0,   0,   0,   1]])"
   ]
  },
  {
   "cell_type": "code",
   "execution_count": 40,
   "metadata": {},
   "outputs": [
    {
     "data": {
      "text/plain": [
       "np.float64(0.8573989640459981)"
      ]
     },
     "execution_count": 40,
     "metadata": {},
     "output_type": "execute_result"
    }
   ],
   "source": [
    "cross_entropy_error(y_hat_batch, y_batch)"
   ]
  },
  {
   "cell_type": "code",
   "execution_count": 41,
   "metadata": {},
   "outputs": [
    {
     "data": {
      "text/plain": [
       "1e+48"
      ]
     },
     "execution_count": 41,
     "metadata": {},
     "output_type": "execute_result"
    }
   ],
   "source": [
    "(0.1/10e-50)"
   ]
  },
  {
   "cell_type": "code",
   "execution_count": 42,
   "metadata": {},
   "outputs": [],
   "source": [
    "def numerical_diff(f, x):\n",
    "    h = 10e-50\n",
    "    return (f(x+h) - f(x))/h"
   ]
  },
  {
   "cell_type": "code",
   "execution_count": 43,
   "metadata": {},
   "outputs": [],
   "source": [
    "def func(x):\n",
    "    return x**2 + 0.1*x"
   ]
  },
  {
   "cell_type": "code",
   "execution_count": 44,
   "metadata": {},
   "outputs": [
    {
     "data": {
      "text/plain": [
       "0.0"
      ]
     },
     "execution_count": 44,
     "metadata": {},
     "output_type": "execute_result"
    }
   ],
   "source": [
    "numerical_diff(func, 0.8)"
   ]
  },
  {
   "cell_type": "code",
   "execution_count": 45,
   "metadata": {},
   "outputs": [],
   "source": [
    "# More reasonable approximation\n",
    "def numerical_diff(f, x):\n",
    "    h = 1e-4\n",
    "    return (f(x+h) - f(x - h))/(2*h)"
   ]
  },
  {
   "cell_type": "code",
   "execution_count": 46,
   "metadata": {},
   "outputs": [
    {
     "data": {
      "text/plain": [
       "1.6999999999994797"
      ]
     },
     "execution_count": 46,
     "metadata": {},
     "output_type": "execute_result"
    }
   ],
   "source": [
    "numerical_diff(func, 0.8)"
   ]
  },
  {
   "cell_type": "code",
   "execution_count": 47,
   "metadata": {},
   "outputs": [
    {
     "data": {
      "text/plain": [
       "0.49999999999994493"
      ]
     },
     "execution_count": 47,
     "metadata": {},
     "output_type": "execute_result"
    }
   ],
   "source": [
    "numerical_diff(func, 0.2)"
   ]
  },
  {
   "cell_type": "code",
   "execution_count": 48,
   "metadata": {},
   "outputs": [],
   "source": [
    "def func(x):\n",
    "    return x[0]**2 + x[1]**2\n",
    "\n",
    "def func_tmp1(x0):\n",
    "    return x0**2 + 4.0**2"
   ]
  },
  {
   "cell_type": "code",
   "execution_count": 49,
   "metadata": {},
   "outputs": [
    {
     "data": {
      "text/plain": [
       "6.00000000000378"
      ]
     },
     "execution_count": 49,
     "metadata": {},
     "output_type": "execute_result"
    }
   ],
   "source": [
    "numerical_diff(func_tmp1, 3.0)"
   ]
  },
  {
   "cell_type": "code",
   "execution_count": 50,
   "metadata": {},
   "outputs": [],
   "source": [
    "def func_tmp2(x1):\n",
    "    return 3.0**2 + x1**2"
   ]
  },
  {
   "cell_type": "code",
   "execution_count": 51,
   "metadata": {},
   "outputs": [
    {
     "data": {
      "text/plain": [
       "7.999999999999119"
      ]
     },
     "execution_count": 51,
     "metadata": {},
     "output_type": "execute_result"
    }
   ],
   "source": [
    "numerical_diff(func_tmp2, 4.0)"
   ]
  },
  {
   "cell_type": "markdown",
   "metadata": {},
   "source": [
    "##  Numerical Gradient"
   ]
  },
  {
   "cell_type": "code",
   "execution_count": 52,
   "metadata": {},
   "outputs": [],
   "source": [
    "import numpy as np"
   ]
  },
  {
   "cell_type": "code",
   "execution_count": 53,
   "metadata": {},
   "outputs": [],
   "source": [
    "def func2(x):\n",
    "    return x[0]**2 + x[1]**2"
   ]
  },
  {
   "cell_type": "code",
   "execution_count": 54,
   "metadata": {},
   "outputs": [],
   "source": [
    "# partial derivatives when x0 = 3, x1 = 4\n",
    "\n",
    "def func_tmp1(x0):\n",
    "    return x0**2 + 4**2\n",
    "\n",
    "def func_tmp2(x1):\n",
    "    return 3**2 + x1**2"
   ]
  },
  {
   "cell_type": "code",
   "execution_count": 55,
   "metadata": {},
   "outputs": [],
   "source": [
    "def _numerical_diff(f, x):\n",
    "    h = 1e-4\n",
    "    return (f(x + h) - f(x - h))/(2*h)"
   ]
  },
  {
   "cell_type": "code",
   "execution_count": 56,
   "metadata": {},
   "outputs": [],
   "source": [
    "def _numerical_gradient(f, x):\n",
    "    h = 1e-4 # 0.0001\n",
    "    grad = np.zeros_like(x) \n",
    "    \n",
    "    for idx in range(x.size):\n",
    "        tmp_val = x[idx]\n",
    "        \n",
    "        # f(x+h) \n",
    "        x[idx] = float(tmp_val) + h\n",
    "        fxh1 = f(x)\n",
    "        \n",
    "        # f(x-h) \n",
    "        x[idx] = tmp_val - h \n",
    "        fxh2 = f(x) \n",
    "        \n",
    "        grad[idx] = (fxh1 - fxh2) / (2*h)\n",
    "        x[idx] = tmp_val \n",
    "        \n",
    "    return grad"
   ]
  },
  {
   "cell_type": "code",
   "execution_count": 57,
   "metadata": {},
   "outputs": [
    {
     "data": {
      "text/plain": [
       "6.00000000000378"
      ]
     },
     "execution_count": 57,
     "metadata": {},
     "output_type": "execute_result"
    }
   ],
   "source": [
    "_numerical_diff(func_tmp1, 3.0)"
   ]
  },
  {
   "cell_type": "code",
   "execution_count": 58,
   "metadata": {},
   "outputs": [
    {
     "data": {
      "text/plain": [
       "7.999999999999119"
      ]
     },
     "execution_count": 58,
     "metadata": {},
     "output_type": "execute_result"
    }
   ],
   "source": [
    "\n",
    "_numerical_diff(func_tmp2, 4.0)"
   ]
  },
  {
   "cell_type": "code",
   "execution_count": 59,
   "metadata": {},
   "outputs": [
    {
     "data": {
      "text/plain": [
       "array([6., 8.])"
      ]
     },
     "execution_count": 59,
     "metadata": {},
     "output_type": "execute_result"
    }
   ],
   "source": [
    "_numerical_gradient(func2, np.array([3.0, 4.0]))"
   ]
  },
  {
   "cell_type": "code",
   "execution_count": 60,
   "metadata": {},
   "outputs": [],
   "source": [
    "def gradient_descent(f, init_x, lr=0.1, step_num = 100):\n",
    "    x = init_x\n",
    "    for i in range(step_num):\n",
    "        grad = _numerical_gradient(f, x)\n",
    "        x -= lr*grad  # x = x - lr*grad\n",
    "\n",
    "    return x"
   ]
  },
  {
   "cell_type": "code",
   "execution_count": 61,
   "metadata": {},
   "outputs": [
    {
     "data": {
      "text/plain": [
       "array([5.65680105e-06, 2.02028609e-06])"
      ]
     },
     "execution_count": 61,
     "metadata": {},
     "output_type": "execute_result"
    }
   ],
   "source": [
    "init_x = np.array([2800.0, 1000.0])\n",
    "# func2 = x0**2 + x1**2\n",
    "gradient_descent(func2, init_x, step_num=10000, lr=0.001)"
   ]
  },
  {
   "cell_type": "markdown",
   "metadata": {},
   "source": [
    "## SampleNet"
   ]
  },
  {
   "cell_type": "code",
   "execution_count": 62,
   "metadata": {},
   "outputs": [],
   "source": [
    "class SimpleNet:\n",
    "    def __init__(self):\n",
    "        self.w = np.random.randn(2, 3)\n",
    "\n",
    "\n",
    "    # for multi-dimensional x\n",
    "    def softmax(self, x):\n",
    "        if x.ndim == 2:\n",
    "            x = x.T\n",
    "            x = x - np.max(x, axis=0)\n",
    "            y = np.exp(x) / np.sum(np.exp(x), axis=0)\n",
    "            return y.T \n",
    "\n",
    "        x = x - np.max(x)  \n",
    "        return np.exp(x) / np.sum(np.exp(x))\n",
    "\n",
    "\n",
    "    def cross_entroy_error(self, y, t):\n",
    "        delta = 1e-7\n",
    "        batch_size = 1 if y.ndim == 1 else y.shape[0]\n",
    "\n",
    "        return -np.sum(t*np.log(y + delta)) / batch_size\n",
    "\n",
    "\n",
    "    # for multi-dimensional x\n",
    "    def numerical_gradient(self, f, x):\n",
    "        h = 1e-4 # 0.0001\n",
    "        grad = np.zeros_like(x)\n",
    "        \n",
    "        it = np.nditer(x, flags=['multi_index'], op_flags=['readwrite'])\n",
    "        while not it.finished:\n",
    "            idx = it.multi_index\n",
    "            tmp_val = x[idx]\n",
    "            x[idx] = float(tmp_val) + h\n",
    "            fxh1 = f(x) # f(x+h)\n",
    "            x[idx] = tmp_val - h \n",
    "            fxh2 = f(x) # f(x-h)\n",
    "            grad[idx] = (fxh1 - fxh2) / (2*h)\n",
    "            \n",
    "            x[idx] = tmp_val \n",
    "            it.iternext()   \n",
    "            \n",
    "        return grad\n",
    "\n",
    "\n",
    "    def predict(self, x):\n",
    "        return np.dot(x, self.w)\n",
    "    \n",
    "\n",
    "    def loss(self, x, y):\n",
    "        z = self.predict(x)\n",
    "        y_hat = self.softmax(z)\n",
    "        loss = self.cross_entroy_error(y_hat, y)\n",
    "\n",
    "        return loss\n",
    "\n"
   ]
  },
  {
   "cell_type": "markdown",
   "metadata": {},
   "source": [
    "### let's test SimpleNet"
   ]
  },
  {
   "cell_type": "code",
   "execution_count": 63,
   "metadata": {},
   "outputs": [
    {
     "name": "stdout",
     "output_type": "stream",
     "text": [
      "[[-0.04396916  0.50767525  0.04783617]\n",
      " [ 1.46877292  0.82037499  0.86110457]]\n"
     ]
    }
   ],
   "source": [
    "\n",
    "net = SimpleNet()\n",
    "print(net.w)"
   ]
  },
  {
   "cell_type": "code",
   "execution_count": 64,
   "metadata": {},
   "outputs": [
    {
     "name": "stdout",
     "output_type": "stream",
     "text": [
      "[0.24828844 0.51124392 0.19709519]\n"
     ]
    }
   ],
   "source": [
    "\n",
    "x = np.array([0.7, 0.19])\n",
    "p = net.predict(x)\n",
    "print(p)\n"
   ]
  },
  {
   "cell_type": "code",
   "execution_count": 65,
   "metadata": {},
   "outputs": [
    {
     "data": {
      "text/plain": [
       "np.int64(1)"
      ]
     },
     "execution_count": 65,
     "metadata": {},
     "output_type": "execute_result"
    }
   ],
   "source": [
    "np.argmax(p)"
   ]
  },
  {
   "cell_type": "code",
   "execution_count": 66,
   "metadata": {},
   "outputs": [
    {
     "data": {
      "text/plain": [
       "np.float64(0.9159650300431031)"
      ]
     },
     "execution_count": 66,
     "metadata": {},
     "output_type": "execute_result"
    }
   ],
   "source": [
    "y = np.array([0, 1, 0])\n",
    "net.loss(x, y)"
   ]
  },
  {
   "cell_type": "code",
   "execution_count": 67,
   "metadata": {},
   "outputs": [
    {
     "data": {
      "text/plain": [
       "np.float64(1.2301136736662086)"
      ]
     },
     "execution_count": 67,
     "metadata": {},
     "output_type": "execute_result"
    }
   ],
   "source": [
    "y = np.array([0, 0, 1])\n",
    "net.loss(x, y)"
   ]
  },
  {
   "cell_type": "code",
   "execution_count": 68,
   "metadata": {},
   "outputs": [],
   "source": [
    "def loss_function(w):\n",
    "    return net.loss(x, y)"
   ]
  },
  {
   "cell_type": "code",
   "execution_count": 69,
   "metadata": {},
   "outputs": [
    {
     "name": "stdout",
     "output_type": "stream",
     "text": [
      "[[ 0.21532731  0.28009105 -0.49541835]\n",
      " [ 0.05844598  0.07602471 -0.1344707 ]]\n"
     ]
    }
   ],
   "source": [
    "dw = net.numerical_gradient(loss_function, net.w)\n",
    "print(dw)"
   ]
  },
  {
   "cell_type": "markdown",
   "metadata": {},
   "source": [
    "### Using Lambda"
   ]
  },
  {
   "cell_type": "code",
   "execution_count": 70,
   "metadata": {},
   "outputs": [],
   "source": [
    "loss_function = lambda w: net.loss(x, y)"
   ]
  },
  {
   "cell_type": "code",
   "execution_count": 71,
   "metadata": {},
   "outputs": [
    {
     "name": "stdout",
     "output_type": "stream",
     "text": [
      "[[ 0.21532731  0.28009105 -0.49541835]\n",
      " [ 0.05844598  0.07602471 -0.1344707 ]]\n"
     ]
    }
   ],
   "source": [
    "dw = net.numerical_gradient(loss_function, net.w)\n",
    "print(dw)"
   ]
  },
  {
   "cell_type": "markdown",
   "metadata": {},
   "source": [
    "## TwoLayerNet Class"
   ]
  },
  {
   "cell_type": "code",
   "execution_count": 72,
   "metadata": {},
   "outputs": [],
   "source": [
    "class Activations:\n",
    "    def sigmoid(self, x):\n",
    "        return 1/(1 + np.exp(-x))\n",
    "    \n",
    "    # for multi-dimensional x\n",
    "    def softmax(self, x):\n",
    "        if x.ndim == 2:\n",
    "            x = x.T\n",
    "            x = x - np.max(x, axis=0)\n",
    "            y = np.exp(x) / np.sum(np.exp(x), axis=0)\n",
    "            return y.T \n",
    "\n",
    "        x = x - np.max(x)  \n",
    "        return np.exp(x) / np.sum(np.exp(x))"
   ]
  },
  {
   "cell_type": "code",
   "execution_count": 73,
   "metadata": {},
   "outputs": [],
   "source": [
    "class Errors:\n",
    "    def cross_entroy_error(self, y, t):\n",
    "        delta = 1e-7\n",
    "        batch_size = 1 if y.ndim == 1 else y.shape[0]\n",
    "\n",
    "        return -np.sum(t*np.log(y + delta)) / batch_size"
   ]
  },
  {
   "cell_type": "code",
   "execution_count": 74,
   "metadata": {},
   "outputs": [],
   "source": [
    "import activations\n",
    "import errors"
   ]
  },
  {
   "cell_type": "code",
   "execution_count": 75,
   "metadata": {},
   "outputs": [],
   "source": [
    "class TwoLayerNet:\n",
    "    def __init__(self, input_size, hidden_size, output_size, weight_init_std=0.01):\n",
    "        self.params = {}\n",
    "\n",
    "        self.params['w1'] = weight_init_std*np.random.randn(input_size, hidden_size)\n",
    "        self.params['b1'] = np.zeros(hidden_size)\n",
    "\n",
    "        self.params['w2'] = weight_init_std*np.random.randn(hidden_size, output_size)\n",
    "        self.params['b2'] = np.zeros(output_size)\n",
    "\n",
    "        self.activations = activations.Activations()\n",
    "        self.errors = errors.Errors()\n",
    "\n",
    "    def predict(self, x):\n",
    "        w1, w2 = self.params['w1'], self.params['w2']\n",
    "        b1, b2 = self.params['b1'], self.params['b2']\n",
    "        \n",
    "        a1 = np.dot(x, w1) + b1\n",
    "        z1 = self.activations.sigmoid(a1)\n",
    "        a2 = np.dot(z1, w2) + b2\n",
    "        y = self.activations.softmax(a2)\n",
    "\n",
    "        return y\n",
    "    \n",
    "    def loss(self, x, y):\n",
    "        y_hat = self.predict(x)\n",
    "\n",
    "        return self.errors.cross_entropy_error(y_hat, y)\n",
    "    \n",
    "\n",
    "    def accuracy(self, x, y):\n",
    "        y_hat = self.predict(x)\n",
    "        p = np.argmax(y_hat, axis=1)\n",
    "        y_p = np.argmax(y, axis=1)\n",
    "\n",
    "        return np.sum(p == y_p)/float(x.shape[0])\n",
    "    \n",
    "    # for multi-dimensional x\n",
    "    def _numerical_gradient(self, f, x):\n",
    "        h = 1e-4 # 0.0001\n",
    "        grad = np.zeros_like(x)\n",
    "        \n",
    "        it = np.nditer(x, flags=['multi_index'], op_flags=['readwrite'])\n",
    "        while not it.finished:\n",
    "            idx = it.multi_index\n",
    "            tmp_val = x[idx]\n",
    "            x[idx] = float(tmp_val) + h\n",
    "            fxh1 = f(x) # f(x+h)\n",
    "            \n",
    "            x[idx] = tmp_val - h \n",
    "            fxh2 = f(x) # f(x-h)\n",
    "            grad[idx] = (fxh1 - fxh2) / (2*h)\n",
    "            \n",
    "            x[idx] = tmp_val \n",
    "            it.iternext()   \n",
    "            \n",
    "        return grad\n",
    "    \n",
    "\n",
    "    def numerical_gradient(self, x, y):\n",
    "        loss_w = lambda w: self.loss(x, y)\n",
    "\n",
    "        grads = {}\n",
    "        grads['w1'] = self._numerical_gradient(loss_w, self.params['w1'])\n",
    "        grads['b1'] = self._numerical_gradient(loss_w, self.params['b1'])\n",
    "        grads['w2'] = self._numerical_gradient(loss_w, self.params['w2'])\n",
    "        grads['b2'] = self._numerical_gradient(loss_w, self.params['b2'])\n",
    "\n",
    "        return grads"
   ]
  },
  {
   "cell_type": "markdown",
   "metadata": {},
   "source": [
    "## Train TwoLayerNet"
   ]
  },
  {
   "cell_type": "code",
   "execution_count": 88,
   "metadata": {},
   "outputs": [],
   "source": [
    "import mnist\n",
    "from two_layer_net import TwoLayerNet\n",
    "\n",
    "import matplotlib.pyplot as plt\n",
    "import numpy as np"
   ]
  },
  {
   "cell_type": "code",
   "execution_count": 89,
   "metadata": {},
   "outputs": [
    {
     "name": "stdout",
     "output_type": "stream",
     "text": [
      "File: train-images-idx3-ubyte.gz already exists.\n",
      "File: train-labels-idx1-ubyte.gz already exists.\n",
      "File: t10k-images-idx3-ubyte.gz already exists.\n",
      "File: t10k-labels-idx1-ubyte.gz already exists.\n",
      "Pickle: dataset/mnist.pkl already exists.\n",
      "Loading...\n",
      "Done.\n"
     ]
    }
   ],
   "source": [
    "my_mnist = mnist.Mnist()"
   ]
  },
  {
   "cell_type": "code",
   "execution_count": 78,
   "metadata": {},
   "outputs": [],
   "source": [
    "(x_train, y_train), (x_test, y_test) = my_mnist.load()"
   ]
  },
  {
   "cell_type": "code",
   "execution_count": 87,
   "metadata": {},
   "outputs": [
    {
     "name": "stdout",
     "output_type": "stream",
     "text": [
      "(60000, 784)\n",
      "(60000, 10)\n",
      "(10000, 784)\n",
      "(10000, 10)\n"
     ]
    }
   ],
   "source": [
    "print(x_train.shape)\n",
    "print(y_train.shape)\n",
    "print(x_test.shape)\n",
    "print(y_test.shape)"
   ]
  },
  {
   "cell_type": "code",
   "execution_count": 93,
   "metadata": {},
   "outputs": [],
   "source": [
    "network = TwoLayerNet(input_size=28*28, hidden_size=100, output_size=10)"
   ]
  },
  {
   "cell_type": "code",
   "execution_count": 92,
   "metadata": {},
   "outputs": [
    {
     "data": {
      "text/plain": [
       "{'w1': array([[-0.00288059, -0.00627054, -0.00402947, ...,  0.00713884,\n",
       "         -0.00233731, -0.02418013],\n",
       "        [-0.00290337,  0.0092901 ,  0.01626799, ..., -0.01233794,\n",
       "         -0.00702157,  0.01187496],\n",
       "        [-0.00682652, -0.00418928, -0.00250892, ..., -0.00208008,\n",
       "          0.01046547,  0.00911338],\n",
       "        ...,\n",
       "        [ 0.00215674, -0.02274471, -0.00834287, ..., -0.00991416,\n",
       "         -0.01293192, -0.00537784],\n",
       "        [-0.00372493,  0.0076987 , -0.00677003, ..., -0.01800163,\n",
       "         -0.0064099 , -0.00943463],\n",
       "        [ 0.00731781, -0.0017486 , -0.01240356, ...,  0.01625167,\n",
       "         -0.00897982, -0.00130714]]),\n",
       " 'b1': array([0., 0., 0., 0., 0., 0., 0., 0., 0., 0., 0., 0., 0., 0., 0., 0., 0.,\n",
       "        0., 0., 0., 0., 0., 0., 0., 0., 0., 0., 0., 0., 0., 0., 0., 0., 0.,\n",
       "        0., 0., 0., 0., 0., 0., 0., 0., 0., 0., 0., 0., 0., 0., 0., 0., 0.,\n",
       "        0., 0., 0., 0., 0., 0., 0., 0., 0., 0., 0., 0., 0., 0., 0., 0., 0.,\n",
       "        0., 0., 0., 0., 0., 0., 0., 0., 0., 0., 0., 0., 0., 0., 0., 0., 0.,\n",
       "        0., 0., 0., 0., 0., 0., 0., 0., 0., 0., 0., 0., 0., 0., 0.]),\n",
       " 'w2': array([[ 2.05414338e-03, -1.57460138e-02,  1.63698374e-02,\n",
       "         -1.86698288e-02, -1.19077285e-02,  9.34366927e-03,\n",
       "          2.74378778e-02,  1.69032727e-03,  2.45756657e-03,\n",
       "         -1.37739561e-02],\n",
       "        [-8.74419750e-03,  1.62222509e-04, -1.89363448e-02,\n",
       "          3.96519732e-03, -1.27175419e-03,  3.84281431e-03,\n",
       "          7.59562907e-03, -7.99128863e-04,  7.07667677e-04,\n",
       "          7.77580144e-03],\n",
       "        [ 2.69292342e-02, -1.96287157e-03, -1.56880477e-02,\n",
       "         -1.69725894e-02,  1.77815780e-02, -1.85293386e-02,\n",
       "          8.96933562e-03,  6.10630789e-03,  2.55154936e-03,\n",
       "         -1.00938013e-02],\n",
       "        [-4.19050071e-03, -6.38361949e-03,  9.68609345e-03,\n",
       "         -1.11855228e-02,  4.75834857e-03, -7.89308030e-03,\n",
       "          3.80687000e-03,  1.76608879e-03,  9.14630808e-03,\n",
       "          2.88281757e-02],\n",
       "        [-1.42721994e-02,  1.45881608e-02,  7.64179749e-03,\n",
       "          1.63181027e-03,  4.21210373e-03, -7.94380825e-03,\n",
       "         -8.36115713e-03, -1.41948318e-02,  6.90810327e-03,\n",
       "          1.67948479e-02],\n",
       "        [-8.83954746e-04, -4.00289202e-03,  2.23201859e-04,\n",
       "          1.68707842e-02,  8.48256511e-03, -2.44032715e-06,\n",
       "         -3.89423729e-04,  3.75591614e-03, -1.03946215e-02,\n",
       "          1.16318688e-02],\n",
       "        [-3.92356537e-03,  1.30605813e-02, -5.72139043e-03,\n",
       "          1.19110149e-02,  3.04631165e-04,  4.95738724e-03,\n",
       "          8.92310505e-03,  3.67644134e-03, -4.48663721e-03,\n",
       "         -2.65148320e-03],\n",
       "        [ 4.81450047e-03,  5.04626109e-03, -4.27701650e-03,\n",
       "         -1.94206922e-03, -4.42259074e-04,  4.04189256e-03,\n",
       "          4.65132716e-03,  6.87309971e-03, -6.32378168e-03,\n",
       "         -1.12005509e-02],\n",
       "        [-1.51535646e-02,  5.09043006e-03, -9.70943622e-05,\n",
       "          7.43449572e-04,  1.23146220e-03, -8.84765911e-03,\n",
       "          1.50325742e-02, -1.86087199e-02,  1.35072113e-02,\n",
       "          1.83698431e-02],\n",
       "        [-2.64469387e-03,  9.63222169e-03,  1.33968979e-02,\n",
       "          8.38343763e-03, -1.51675959e-03, -4.66109654e-03,\n",
       "         -1.23913259e-03,  1.45428891e-02, -1.66532615e-03,\n",
       "         -7.37534192e-03],\n",
       "        [ 1.37344681e-02,  5.20016992e-03,  5.11748872e-03,\n",
       "          5.03325241e-03,  8.39573320e-03,  8.49067852e-03,\n",
       "         -3.82293370e-03, -1.17334620e-02,  8.20961620e-03,\n",
       "          2.39542091e-02],\n",
       "        [-5.81525152e-03, -1.00395445e-03, -1.52057791e-02,\n",
       "         -4.71832084e-03, -1.52206744e-02,  9.35732005e-03,\n",
       "          1.58520546e-02,  2.09523634e-03,  1.11735470e-02,\n",
       "         -4.44731709e-03],\n",
       "        [ 1.15721824e-02,  1.11068442e-02,  1.92850626e-02,\n",
       "          2.83696595e-03, -9.41978929e-03, -3.82411109e-03,\n",
       "          1.04922286e-03,  9.13600433e-03, -6.15391373e-03,\n",
       "          1.84607657e-02],\n",
       "        [-6.60430017e-03, -1.34916113e-02,  1.57496341e-02,\n",
       "          2.34752708e-03, -1.80942975e-02, -1.42932820e-02,\n",
       "         -3.35583590e-03, -2.65081539e-03,  1.20291993e-02,\n",
       "          3.89793502e-03],\n",
       "        [ 2.49715919e-04,  3.15554632e-03, -8.55423004e-03,\n",
       "          1.49807019e-02, -7.94178807e-03, -1.30943267e-02,\n",
       "         -1.77279524e-02, -1.40383742e-02,  1.62581534e-02,\n",
       "         -1.19041859e-02],\n",
       "        [-1.24526789e-02, -7.44490338e-03,  7.92283296e-03,\n",
       "          6.99229599e-03,  2.70803471e-03, -1.56903190e-02,\n",
       "         -2.31955984e-02,  9.47820811e-03, -3.69073413e-03,\n",
       "          3.42525340e-03],\n",
       "        [-5.46073116e-03, -4.63554583e-03, -5.32736228e-03,\n",
       "          6.02236401e-03,  7.24207004e-03, -5.47593605e-03,\n",
       "         -6.42967001e-03, -1.13832510e-03,  1.01409207e-02,\n",
       "          3.92607403e-04],\n",
       "        [-7.93619619e-04,  1.01929559e-02,  1.98857177e-02,\n",
       "          1.68140737e-03, -8.63657025e-03,  1.11992494e-03,\n",
       "         -4.20563452e-04,  8.88518088e-03,  9.02864683e-04,\n",
       "         -1.25621054e-02],\n",
       "        [ 4.79522966e-03,  4.40983732e-03,  4.76889580e-03,\n",
       "         -1.73760401e-03,  1.47943109e-02, -2.63695376e-03,\n",
       "         -2.50212407e-03,  9.47158897e-03,  9.96099741e-03,\n",
       "         -1.29521475e-03],\n",
       "        [-3.19647790e-03,  7.37805513e-03,  9.46236766e-03,\n",
       "          2.67119252e-03, -3.74543083e-03, -3.02546101e-03,\n",
       "          3.01520745e-03, -1.70042761e-02, -9.30030153e-03,\n",
       "         -1.15505132e-02],\n",
       "        [-1.57473980e-02,  1.12155536e-02, -2.34240586e-03,\n",
       "          3.29267756e-05,  9.72858336e-04,  2.53964782e-04,\n",
       "          1.44906347e-02, -4.53605238e-03,  1.04350917e-02,\n",
       "          5.01563002e-03],\n",
       "        [-1.21777373e-02, -4.04792569e-03, -1.05045871e-02,\n",
       "         -3.33694434e-03,  9.41813934e-03, -1.20382833e-02,\n",
       "          1.48017917e-02,  1.32140154e-03, -1.09715853e-02,\n",
       "          5.96314475e-03],\n",
       "        [-1.34235219e-02, -1.77194134e-02,  9.95195857e-03,\n",
       "         -2.07623519e-02, -7.65639200e-03, -4.47064349e-03,\n",
       "         -1.68908986e-02,  1.08398604e-02, -7.10591894e-03,\n",
       "         -9.64861919e-03],\n",
       "        [-3.92850429e-03,  5.36279834e-04, -3.00939333e-02,\n",
       "         -3.99184424e-03,  7.14269314e-04, -8.56515361e-03,\n",
       "          3.55389944e-03, -1.13271744e-02, -6.56618493e-03,\n",
       "         -7.36015873e-04],\n",
       "        [ 9.15283723e-03,  1.37128323e-03,  5.63372148e-04,\n",
       "          5.13137998e-03, -1.09797809e-02,  1.10970772e-02,\n",
       "         -1.60895681e-03, -6.58629057e-03, -2.00408667e-02,\n",
       "         -8.17481892e-03],\n",
       "        [-7.30307867e-03,  1.90371703e-03, -1.53236334e-02,\n",
       "          3.41406702e-02,  5.94121306e-03,  6.37857967e-03,\n",
       "          1.50269710e-02,  7.69530779e-03,  1.03427087e-03,\n",
       "          8.83579923e-03],\n",
       "        [ 3.12135221e-03,  9.42871485e-03, -1.03576470e-02,\n",
       "          2.12608781e-02, -1.00055690e-02,  2.31099529e-03,\n",
       "          1.00989526e-02, -3.65389879e-03,  1.58631072e-03,\n",
       "          7.12735884e-03],\n",
       "        [ 1.23781017e-02, -1.58374244e-03,  4.11296634e-03,\n",
       "          1.22460046e-02,  9.90951662e-03, -7.81717609e-03,\n",
       "          4.30460462e-03, -5.29990855e-03, -1.22550719e-03,\n",
       "          5.69678076e-03],\n",
       "        [ 1.05703017e-02, -1.13998074e-02, -9.52408121e-03,\n",
       "          7.18244862e-03, -1.85372300e-02,  1.04899934e-03,\n",
       "         -3.42843705e-03, -1.18034803e-03,  7.73346727e-03,\n",
       "         -7.01068958e-03],\n",
       "        [ 7.57944903e-03,  6.76416389e-03, -4.06369944e-03,\n",
       "          8.39115496e-03, -9.50574595e-03, -9.72256575e-04,\n",
       "          3.44793709e-04,  4.20352747e-03, -1.63514973e-02,\n",
       "          7.65315996e-03],\n",
       "        [-5.45396407e-03,  1.61718016e-02, -7.41790975e-03,\n",
       "          7.38288774e-03, -1.26671545e-03, -8.74282339e-03,\n",
       "          7.76119433e-03, -1.12913398e-02, -1.34650922e-03,\n",
       "         -1.81603605e-02],\n",
       "        [-1.12285551e-02,  4.15975112e-03,  2.56260184e-02,\n",
       "         -1.52087239e-02, -3.50975135e-03, -7.34566113e-03,\n",
       "         -1.02399781e-02, -1.46639820e-03, -2.81802747e-02,\n",
       "          2.20735233e-02],\n",
       "        [-2.93241675e-03, -1.49922953e-02,  2.11290783e-03,\n",
       "         -1.24695283e-02,  1.75909001e-02, -9.71971224e-03,\n",
       "         -5.05667830e-03,  1.54990759e-02, -9.24360682e-03,\n",
       "         -3.33997971e-04],\n",
       "        [-1.03544699e-02, -9.65568373e-03,  7.82509352e-03,\n",
       "          5.91540367e-03,  2.13229448e-02, -1.00841444e-02,\n",
       "          8.45447883e-03,  2.78863049e-03, -7.20146737e-03,\n",
       "         -3.14077916e-03],\n",
       "        [ 9.68361786e-03, -5.58246706e-03, -8.25379084e-04,\n",
       "          2.04619730e-02,  7.85547211e-04,  9.33655404e-03,\n",
       "          5.40824738e-03, -1.04708426e-02, -2.67358991e-02,\n",
       "          3.97161048e-03],\n",
       "        [ 1.68887077e-02, -2.05314693e-02, -2.11408243e-02,\n",
       "          1.09141955e-02, -3.08292054e-03,  1.22987398e-02,\n",
       "          2.01433483e-02,  7.09487685e-03,  8.06184851e-03,\n",
       "         -2.89835563e-02],\n",
       "        [-1.54210335e-02, -8.75223355e-03, -6.68060851e-03,\n",
       "          1.43105662e-02, -1.59666585e-02, -1.63478318e-02,\n",
       "         -2.03748598e-02,  5.97885063e-03,  1.11205387e-02,\n",
       "          7.20883022e-04],\n",
       "        [-2.61317298e-03,  7.09063179e-03,  8.70312347e-03,\n",
       "          7.71899144e-03,  7.41221705e-03, -3.97283929e-03,\n",
       "         -6.28454637e-03,  2.40071829e-03,  1.45348893e-03,\n",
       "         -2.33291468e-03],\n",
       "        [-2.13515743e-03,  1.76725840e-03,  1.49277456e-03,\n",
       "          7.55510074e-03, -9.66160267e-03, -7.13241207e-03,\n",
       "         -8.29911569e-04,  3.88475827e-03,  5.82437613e-04,\n",
       "          3.46753646e-03],\n",
       "        [-3.69200629e-03,  1.84684912e-04, -1.59133400e-02,\n",
       "          7.40510798e-03, -3.72105631e-03, -3.24906456e-04,\n",
       "         -5.29302899e-03,  1.16438396e-02, -1.45731001e-02,\n",
       "          2.90817414e-03],\n",
       "        [ 9.92624964e-04,  1.54347795e-02,  2.36697694e-03,\n",
       "         -3.06880895e-02,  7.46387851e-03, -8.38829211e-03,\n",
       "          1.13687024e-02, -6.86769381e-03, -4.14919382e-03,\n",
       "          2.17457132e-03],\n",
       "        [-1.26519912e-02, -8.33395300e-04, -7.29803784e-03,\n",
       "          1.29223601e-03, -5.41109095e-03, -8.34569746e-04,\n",
       "         -1.54449170e-02, -8.19896285e-03,  8.18305618e-03,\n",
       "         -1.59191444e-02],\n",
       "        [ 1.15500652e-02, -1.82336286e-02, -1.20172189e-02,\n",
       "          3.77132817e-03, -6.23437354e-04,  1.08173296e-03,\n",
       "          2.66249914e-03, -1.21715584e-02,  5.95100731e-03,\n",
       "          2.16046993e-02],\n",
       "        [ 4.19267360e-03, -9.01547583e-03,  1.61498669e-02,\n",
       "         -6.41900859e-03, -1.42029001e-02, -1.23452783e-02,\n",
       "          1.02880009e-02, -6.75839399e-03, -6.00777427e-03,\n",
       "          7.98068995e-03],\n",
       "        [-2.24178455e-04, -1.43348426e-02, -2.07816220e-04,\n",
       "         -3.74861964e-03,  1.58044814e-03, -4.72226996e-04,\n",
       "          1.22531756e-02, -2.55633057e-03,  1.17311274e-02,\n",
       "          3.73861672e-03],\n",
       "        [-8.44872470e-03, -3.90221068e-03,  3.59745557e-03,\n",
       "          6.71730534e-03,  7.09789552e-03, -1.85249758e-03,\n",
       "         -2.70352567e-03, -1.56168339e-02,  1.00902314e-02,\n",
       "          1.85221962e-02],\n",
       "        [ 1.20184985e-02, -2.19663642e-02,  3.19762621e-03,\n",
       "          6.11440275e-03,  7.59818032e-03,  1.84119939e-03,\n",
       "         -3.87627068e-03, -1.82573038e-02, -4.89758543e-03,\n",
       "          5.56582425e-03],\n",
       "        [ 6.63742592e-04,  7.55708847e-03,  4.19210165e-03,\n",
       "          4.73354258e-03,  5.85029435e-03,  3.64332677e-03,\n",
       "         -5.57075321e-03,  1.41943597e-02, -5.03107090e-03,\n",
       "          1.38234944e-02],\n",
       "        [ 1.40756405e-02,  1.20928918e-02, -3.68103390e-03,\n",
       "          5.01406320e-03, -4.31954473e-03,  1.06882115e-02,\n",
       "         -3.15444738e-03, -7.60936055e-03,  4.99965449e-03,\n",
       "          7.07256536e-03],\n",
       "        [-2.05687139e-02,  1.45909281e-02, -1.06758442e-02,\n",
       "         -1.52184323e-03, -1.53884821e-02,  4.14375549e-03,\n",
       "          3.33666963e-03,  3.56236532e-02, -3.48578209e-03,\n",
       "         -1.92378084e-02],\n",
       "        [ 2.68469759e-03, -5.87817630e-04, -3.46057907e-03,\n",
       "          1.06809260e-02,  3.85041396e-03, -7.36957820e-03,\n",
       "          7.98363751e-03, -1.21931700e-02,  1.27304575e-02,\n",
       "         -4.67028173e-03],\n",
       "        [-5.95303762e-03, -7.32455423e-03,  2.23493865e-03,\n",
       "         -5.53658466e-03, -1.68798222e-02, -6.28523073e-03,\n",
       "         -8.65639377e-03, -3.70874948e-03, -1.15755733e-02,\n",
       "          1.68266524e-03],\n",
       "        [ 2.50897820e-03,  2.18566539e-03, -6.81638379e-03,\n",
       "         -6.01099470e-03, -1.33856513e-02,  1.21460414e-02,\n",
       "         -5.33630732e-04,  9.14234603e-03,  1.35330977e-02,\n",
       "          7.90808395e-03],\n",
       "        [-4.95551995e-03, -7.26760666e-03,  6.98427748e-03,\n",
       "         -1.90649633e-03, -1.05603069e-03,  1.52438664e-02,\n",
       "          2.00173757e-02, -6.56126990e-03, -2.18124576e-03,\n",
       "          8.45682852e-03],\n",
       "        [ 7.15563530e-03,  1.35253449e-02,  1.09829760e-02,\n",
       "          6.92992210e-03, -4.79295340e-03, -2.72510356e-02,\n",
       "          2.69447340e-03, -7.97340280e-03,  1.66158171e-02,\n",
       "          1.24707774e-02],\n",
       "        [ 1.23419185e-02, -9.21867436e-03,  9.42611522e-04,\n",
       "          8.82980382e-03, -3.54987413e-03,  4.92839069e-03,\n",
       "          1.82329302e-02, -5.59517746e-04,  8.58081356e-05,\n",
       "          2.11343067e-03],\n",
       "        [ 3.64359575e-03,  2.69429045e-03, -1.30884593e-02,\n",
       "         -4.55860275e-03,  2.89940194e-03, -2.21453158e-03,\n",
       "         -5.65075271e-03, -1.05635444e-03, -1.00872126e-02,\n",
       "         -1.55960057e-02],\n",
       "        [-3.36175550e-03,  1.15988680e-02,  2.51848187e-02,\n",
       "          1.88897589e-03, -4.67889947e-03,  1.47442841e-03,\n",
       "         -9.40299136e-03, -1.05091828e-02, -2.24293249e-02,\n",
       "          1.15588487e-02],\n",
       "        [ 2.63515850e-03,  1.08764010e-02,  4.40121078e-03,\n",
       "          7.74612364e-03,  2.21611967e-02, -1.37442946e-02,\n",
       "          2.43342574e-03,  1.39934107e-02, -1.38303825e-03,\n",
       "          1.76860038e-02],\n",
       "        [-5.26320776e-03, -8.64809065e-03,  2.63624455e-03,\n",
       "          1.78322295e-02, -2.32818806e-04, -8.02362902e-03,\n",
       "         -1.16027476e-02, -5.79526930e-03, -6.81435728e-03,\n",
       "         -4.75843853e-05],\n",
       "        [ 1.45102226e-02,  2.79844506e-02, -1.23163532e-02,\n",
       "         -4.75327319e-03, -1.31157177e-02,  3.06836692e-03,\n",
       "         -1.23908478e-02,  7.89754237e-03,  8.79838021e-03,\n",
       "          1.15283525e-02],\n",
       "        [ 3.62719632e-03, -2.10644933e-03, -1.19965190e-02,\n",
       "          1.06249981e-02,  1.03141024e-02,  2.11671555e-04,\n",
       "         -1.14882743e-03, -1.10816546e-02, -7.76057715e-03,\n",
       "         -3.99894471e-04],\n",
       "        [-3.84480774e-03,  7.37665131e-03, -7.63390600e-03,\n",
       "          9.95724960e-04, -1.99656765e-02, -8.49794040e-03,\n",
       "         -1.27892343e-02,  5.80466482e-03, -7.19389890e-03,\n",
       "          1.61687590e-03],\n",
       "        [-1.77489072e-02, -1.26722757e-03,  1.44373566e-02,\n",
       "         -8.78464030e-03, -1.21351434e-02, -6.30384031e-03,\n",
       "         -2.88642127e-03, -7.13743039e-03, -4.80426114e-04,\n",
       "          1.05464630e-02],\n",
       "        [ 8.84623583e-03, -1.63551299e-02,  1.47206943e-03,\n",
       "         -4.73930022e-03, -2.01325130e-03, -1.26932287e-02,\n",
       "          2.61700437e-02,  2.56720579e-02,  1.25680603e-02,\n",
       "         -1.78978024e-02],\n",
       "        [-4.69010739e-03,  6.92203987e-03,  1.53503231e-02,\n",
       "         -1.43927944e-02, -6.95232516e-03,  1.09278249e-02,\n",
       "          1.73631777e-03, -7.90150245e-04, -3.74047862e-03,\n",
       "         -6.46403863e-03],\n",
       "        [-4.53532500e-03, -1.65243450e-02, -3.26450105e-03,\n",
       "          5.29199831e-03, -1.18647248e-02, -1.41808594e-02,\n",
       "         -3.42229871e-03,  5.84501193e-04, -2.06409658e-02,\n",
       "          1.31746281e-02],\n",
       "        [-1.30094087e-03,  9.73980364e-03,  1.07363244e-02,\n",
       "          4.17113974e-03,  1.76250958e-02,  2.12451286e-02,\n",
       "          5.67734221e-03,  1.22749787e-02, -1.54154056e-02,\n",
       "         -7.29856211e-03],\n",
       "        [-1.75394788e-02, -1.18019406e-03, -3.56603439e-03,\n",
       "         -9.40467306e-03,  1.50851592e-03,  9.29486353e-04,\n",
       "         -5.70003061e-03,  1.00347740e-02,  1.32173193e-02,\n",
       "         -4.53806264e-04],\n",
       "        [ 1.14246003e-02, -1.71159059e-02, -9.48800325e-03,\n",
       "         -6.77278315e-03, -5.11856028e-04, -1.99955679e-03,\n",
       "         -5.75019476e-03,  1.33031942e-02,  6.87471717e-03,\n",
       "          7.20218722e-03],\n",
       "        [-5.44515422e-03, -3.82482704e-03, -9.71235977e-03,\n",
       "         -1.76740734e-02,  3.67052931e-03, -6.73789952e-03,\n",
       "          1.65096528e-02,  1.47039548e-02,  1.79929443e-03,\n",
       "          9.20565294e-03],\n",
       "        [-2.17381688e-02,  5.21071149e-03, -8.49333354e-03,\n",
       "         -1.27150830e-02, -2.16986296e-04,  2.49210709e-03,\n",
       "         -1.05518233e-02, -1.78914635e-02, -1.43637626e-02,\n",
       "          7.94320173e-04],\n",
       "        [ 2.97608929e-03,  4.78599291e-03, -1.23640185e-02,\n",
       "         -2.38624905e-03,  1.22850948e-02, -1.29038188e-04,\n",
       "          1.46498508e-02, -1.14077736e-03, -7.13783795e-03,\n",
       "         -4.33987912e-03],\n",
       "        [ 8.91701723e-03, -2.41261612e-03, -3.70089450e-03,\n",
       "          3.65426492e-03,  7.64454126e-03, -7.03265493e-03,\n",
       "          2.54752681e-03, -5.04311281e-03,  1.05676545e-02,\n",
       "          2.39050077e-02],\n",
       "        [-3.46739777e-03, -5.69128647e-03, -2.53727872e-04,\n",
       "          8.15610155e-03, -2.48855954e-02, -4.60759305e-03,\n",
       "         -1.86030204e-03, -4.51056950e-03, -6.00329127e-03,\n",
       "         -1.84885870e-02],\n",
       "        [-2.86027379e-03, -1.29639222e-02,  2.53823226e-03,\n",
       "          1.23163381e-03, -4.22258442e-03, -2.15181326e-03,\n",
       "         -1.53715298e-02, -6.64125602e-03,  9.27706889e-03,\n",
       "          1.32052462e-03],\n",
       "        [-2.41502741e-02,  6.44273711e-03,  1.39711540e-02,\n",
       "          1.13400898e-02,  1.30472690e-02, -4.32843742e-03,\n",
       "         -5.81345206e-03, -1.78476679e-02,  2.12654418e-04,\n",
       "          5.13346426e-03],\n",
       "        [ 1.82864780e-02, -3.75959168e-03, -4.05203901e-03,\n",
       "         -2.17496456e-02, -9.29179719e-03,  3.76741149e-03,\n",
       "         -9.92178259e-03,  5.11064957e-03, -6.20726712e-03,\n",
       "         -2.31340434e-03],\n",
       "        [-9.47744436e-03, -1.13203404e-03,  1.10530079e-02,\n",
       "         -8.99449237e-03, -1.08065583e-02,  2.09463233e-02,\n",
       "          1.54820622e-02,  6.29094919e-03, -2.09810709e-03,\n",
       "          2.07447870e-03],\n",
       "        [ 6.28354417e-03,  8.45738005e-03,  5.23302610e-03,\n",
       "          5.40886932e-03, -9.17796901e-03, -1.72331563e-03,\n",
       "          3.24705864e-03,  2.27202475e-03,  9.57410779e-03,\n",
       "         -2.61035429e-03],\n",
       "        [-9.89465425e-03, -1.58250664e-02, -1.78030430e-03,\n",
       "          4.33823340e-03, -1.52958087e-02,  1.37363079e-02,\n",
       "         -7.43635179e-03, -5.59470909e-04, -3.22624777e-03,\n",
       "         -1.10412122e-02],\n",
       "        [ 1.71789551e-02, -9.83515856e-03, -2.49262153e-02,\n",
       "         -3.16975308e-03, -7.20439970e-03, -3.47166924e-03,\n",
       "          4.44999145e-03, -6.93208259e-03, -9.15253618e-04,\n",
       "          8.09359951e-03],\n",
       "        [ 2.42101656e-03, -6.33679554e-03,  8.10648060e-03,\n",
       "          7.89201773e-03,  7.43855907e-04,  6.64717499e-03,\n",
       "         -3.03122328e-03,  1.01976177e-03, -1.12285207e-02,\n",
       "          7.62488746e-03],\n",
       "        [ 3.23556490e-03,  2.14880437e-03,  1.65126452e-03,\n",
       "         -1.51653623e-02, -8.28856478e-03,  4.77456776e-03,\n",
       "         -5.54494907e-03,  1.15135540e-02, -7.07575427e-03,\n",
       "          5.44659008e-03],\n",
       "        [-8.08853841e-03,  7.45360366e-04, -6.22548544e-03,\n",
       "          1.26502357e-02, -1.46918804e-02,  2.44933995e-02,\n",
       "          8.58974717e-03, -1.73111432e-02,  4.45282641e-03,\n",
       "         -4.03934537e-03],\n",
       "        [ 9.26993655e-04,  9.22274751e-03,  2.63030224e-03,\n",
       "         -1.86272223e-03,  4.94700049e-03, -4.78406369e-03,\n",
       "          1.15142683e-02, -5.54400173e-04, -1.10771634e-03,\n",
       "          4.77890839e-03],\n",
       "        [-1.87565527e-02, -2.17302564e-03,  6.71978719e-04,\n",
       "          1.02577144e-02,  2.97136826e-03,  1.12001133e-02,\n",
       "         -1.34039916e-02, -4.37666356e-03,  4.89180547e-03,\n",
       "         -1.56780176e-03],\n",
       "        [-1.17794356e-02, -4.14961091e-03, -9.99899396e-03,\n",
       "          1.77250445e-02, -9.62506124e-04,  8.43879566e-04,\n",
       "          1.04207940e-02, -1.93658667e-02,  4.85896362e-03,\n",
       "          7.03477191e-03],\n",
       "        [ 9.09102245e-03, -4.81550268e-03, -7.01453620e-03,\n",
       "          1.14215798e-02, -2.78534255e-03,  2.26036794e-02,\n",
       "         -8.28835695e-03,  1.22965444e-02, -2.18644809e-02,\n",
       "          1.86617566e-02],\n",
       "        [-9.34823251e-03, -6.27600939e-03,  1.42815495e-02,\n",
       "         -9.16546633e-03, -1.38812141e-02, -1.37461132e-02,\n",
       "         -2.95825933e-03,  1.64405670e-02,  5.50923546e-03,\n",
       "          4.46614442e-03],\n",
       "        [ 3.43614940e-03,  9.23769152e-03,  5.36483750e-03,\n",
       "          1.35323380e-02,  1.02029846e-02,  1.85684389e-03,\n",
       "          2.74203047e-03, -7.32640291e-03,  9.67524865e-03,\n",
       "         -2.50225563e-03],\n",
       "        [ 6.13248645e-03,  3.16519047e-03,  1.09054767e-02,\n",
       "          4.28797964e-03,  1.05018762e-02, -7.75664738e-04,\n",
       "         -1.33364055e-02,  6.40807591e-03,  2.26181516e-03,\n",
       "          9.45974898e-03],\n",
       "        [-8.11213563e-03,  1.28473113e-02, -3.03830795e-03,\n",
       "         -9.17058730e-03, -6.11255005e-03, -9.98723615e-03,\n",
       "          1.43251436e-02, -4.08551579e-03,  1.34664004e-02,\n",
       "         -1.02130573e-04],\n",
       "        [-3.08500576e-03,  4.15757908e-03,  1.19369751e-02,\n",
       "          9.92283763e-03,  1.65734194e-02,  4.07236755e-03,\n",
       "          1.43294834e-04, -1.13165705e-02, -1.40247236e-02,\n",
       "          1.37852767e-02],\n",
       "        [ 1.00132397e-02, -2.97909058e-03,  2.60150408e-02,\n",
       "         -2.20231828e-02, -8.65016292e-03,  9.34792878e-03,\n",
       "          5.78130900e-03,  9.54581853e-03, -8.99858599e-03,\n",
       "         -3.23770731e-03],\n",
       "        [-2.97226397e-03,  1.28593892e-02,  1.68226041e-02,\n",
       "         -6.07791897e-03,  4.74290306e-03, -7.22156597e-03,\n",
       "         -4.44536885e-03, -2.81835512e-03,  2.47280208e-04,\n",
       "          8.98131076e-03],\n",
       "        [-8.52800322e-03,  1.43011931e-02,  1.71902402e-03,\n",
       "          7.52258248e-03,  7.25328148e-03,  1.42504289e-02,\n",
       "          8.52247575e-04, -8.66912177e-04,  1.68798512e-02,\n",
       "         -1.91748628e-03],\n",
       "        [ 5.67431792e-03,  1.64285826e-03, -2.52537177e-02,\n",
       "         -1.67611575e-03, -1.31844872e-03, -1.23235648e-02,\n",
       "         -2.00387591e-02,  5.99456343e-04,  2.13328696e-02,\n",
       "         -1.62625374e-02],\n",
       "        [-1.60979148e-02, -6.64633352e-03, -4.38976503e-03,\n",
       "         -3.01894560e-03,  8.79144491e-04, -1.66118676e-04,\n",
       "          4.17661773e-03,  6.48535589e-03, -3.37369738e-03,\n",
       "         -1.44568609e-02],\n",
       "        [ 1.44671140e-02, -5.18381308e-03,  2.60837438e-03,\n",
       "          5.07536752e-04,  1.21456747e-02,  5.15544004e-03,\n",
       "         -5.06026825e-03, -9.21475045e-03, -3.63845149e-03,\n",
       "         -8.55233814e-03]]),\n",
       " 'b2': array([0., 0., 0., 0., 0., 0., 0., 0., 0., 0.])}"
      ]
     },
     "execution_count": 92,
     "metadata": {},
     "output_type": "execute_result"
    }
   ],
   "source": [
    "network.params"
   ]
  },
  {
   "cell_type": "code",
   "execution_count": 94,
   "metadata": {},
   "outputs": [],
   "source": [
    "iterations = 10000\n",
    "train_size = x_train.shape[0]\n",
    "batch_size = 100\n",
    "lr = 0.1\n",
    "\n",
    "iter_per_ecoph = max(train_size/batch_size, 1)"
   ]
  },
  {
   "cell_type": "code",
   "execution_count": 95,
   "metadata": {},
   "outputs": [],
   "source": [
    "train_losses = []\n",
    "train_accs = []\n",
    "test_accs = []"
   ]
  },
  {
   "cell_type": "code",
   "execution_count": 96,
   "metadata": {},
   "outputs": [
    {
     "name": "stdout",
     "output_type": "stream",
     "text": [
      "train acc, test_acc : 0.11236666666666667, 0.1135\n"
     ]
    },
    {
     "ename": "KeyboardInterrupt",
     "evalue": "",
     "output_type": "error",
     "traceback": [
      "\u001b[1;31m---------------------------------------------------------------------------\u001b[0m",
      "\u001b[1;31mKeyboardInterrupt\u001b[0m                         Traceback (most recent call last)",
      "Cell \u001b[1;32mIn[96], line 6\u001b[0m\n\u001b[0;32m      3\u001b[0m x_batch \u001b[38;5;241m=\u001b[39m x_train[batch_mask]\n\u001b[0;32m      4\u001b[0m y_batch \u001b[38;5;241m=\u001b[39m y_train[batch_mask]\n\u001b[1;32m----> 6\u001b[0m grads \u001b[38;5;241m=\u001b[39m network\u001b[38;5;241m.\u001b[39mnumerical_gradient(x_batch, y_batch)\n\u001b[0;32m      8\u001b[0m \u001b[38;5;28;01mfor\u001b[39;00m key \u001b[38;5;129;01min\u001b[39;00m (\u001b[38;5;124m'\u001b[39m\u001b[38;5;124mw1\u001b[39m\u001b[38;5;124m'\u001b[39m, \u001b[38;5;124m'\u001b[39m\u001b[38;5;124mb1\u001b[39m\u001b[38;5;124m'\u001b[39m, \u001b[38;5;124m'\u001b[39m\u001b[38;5;124mw2\u001b[39m\u001b[38;5;124m'\u001b[39m, \u001b[38;5;124m'\u001b[39m\u001b[38;5;124mb2\u001b[39m\u001b[38;5;124m'\u001b[39m):\n\u001b[0;32m      9\u001b[0m     network\u001b[38;5;241m.\u001b[39mparams[key] \u001b[38;5;241m-\u001b[39m\u001b[38;5;241m=\u001b[39m lr\u001b[38;5;241m*\u001b[39mgrads[key]\n",
      "File \u001b[1;32md:\\Masters\\Pattern Recognition and Neural Networks\\Assignment 6\\two_layer_net.py:70\u001b[0m, in \u001b[0;36mTwoLayerNet.numerical_gradient\u001b[1;34m(self, x, y)\u001b[0m\n\u001b[0;32m     67\u001b[0m loss_w \u001b[38;5;241m=\u001b[39m \u001b[38;5;28;01mlambda\u001b[39;00m w: \u001b[38;5;28mself\u001b[39m\u001b[38;5;241m.\u001b[39mloss(x, y)\n\u001b[0;32m     69\u001b[0m grads \u001b[38;5;241m=\u001b[39m {}\n\u001b[1;32m---> 70\u001b[0m grads[\u001b[38;5;124m'\u001b[39m\u001b[38;5;124mw1\u001b[39m\u001b[38;5;124m'\u001b[39m] \u001b[38;5;241m=\u001b[39m \u001b[38;5;28mself\u001b[39m\u001b[38;5;241m.\u001b[39m_numerical_gradient(loss_w, \u001b[38;5;28mself\u001b[39m\u001b[38;5;241m.\u001b[39mparams[\u001b[38;5;124m'\u001b[39m\u001b[38;5;124mw1\u001b[39m\u001b[38;5;124m'\u001b[39m])\n\u001b[0;32m     71\u001b[0m grads[\u001b[38;5;124m'\u001b[39m\u001b[38;5;124mb1\u001b[39m\u001b[38;5;124m'\u001b[39m] \u001b[38;5;241m=\u001b[39m \u001b[38;5;28mself\u001b[39m\u001b[38;5;241m.\u001b[39m_numerical_gradient(loss_w, \u001b[38;5;28mself\u001b[39m\u001b[38;5;241m.\u001b[39mparams[\u001b[38;5;124m'\u001b[39m\u001b[38;5;124mb1\u001b[39m\u001b[38;5;124m'\u001b[39m])\n\u001b[0;32m     72\u001b[0m grads[\u001b[38;5;124m'\u001b[39m\u001b[38;5;124mw2\u001b[39m\u001b[38;5;124m'\u001b[39m] \u001b[38;5;241m=\u001b[39m \u001b[38;5;28mself\u001b[39m\u001b[38;5;241m.\u001b[39m_numerical_gradient(loss_w, \u001b[38;5;28mself\u001b[39m\u001b[38;5;241m.\u001b[39mparams[\u001b[38;5;124m'\u001b[39m\u001b[38;5;124mw2\u001b[39m\u001b[38;5;124m'\u001b[39m])\n",
      "File \u001b[1;32md:\\Masters\\Pattern Recognition and Neural Networks\\Assignment 6\\two_layer_net.py:54\u001b[0m, in \u001b[0;36mTwoLayerNet._numerical_gradient\u001b[1;34m(self, f, x)\u001b[0m\n\u001b[0;32m     52\u001b[0m tmp_val \u001b[38;5;241m=\u001b[39m x[idx]\n\u001b[0;32m     53\u001b[0m x[idx] \u001b[38;5;241m=\u001b[39m \u001b[38;5;28mfloat\u001b[39m(tmp_val) \u001b[38;5;241m+\u001b[39m h\n\u001b[1;32m---> 54\u001b[0m fxh1 \u001b[38;5;241m=\u001b[39m f(x) \u001b[38;5;66;03m# f(x+h)\u001b[39;00m\n\u001b[0;32m     56\u001b[0m x[idx] \u001b[38;5;241m=\u001b[39m tmp_val \u001b[38;5;241m-\u001b[39m h \n\u001b[0;32m     57\u001b[0m fxh2 \u001b[38;5;241m=\u001b[39m f(x) \u001b[38;5;66;03m# f(x-h)\u001b[39;00m\n",
      "File \u001b[1;32md:\\Masters\\Pattern Recognition and Neural Networks\\Assignment 6\\two_layer_net.py:67\u001b[0m, in \u001b[0;36mTwoLayerNet.numerical_gradient.<locals>.<lambda>\u001b[1;34m(w)\u001b[0m\n\u001b[0;32m     66\u001b[0m \u001b[38;5;28;01mdef\u001b[39;00m \u001b[38;5;21mnumerical_gradient\u001b[39m(\u001b[38;5;28mself\u001b[39m, x, y):\n\u001b[1;32m---> 67\u001b[0m     loss_w \u001b[38;5;241m=\u001b[39m \u001b[38;5;28;01mlambda\u001b[39;00m w: \u001b[38;5;28mself\u001b[39m\u001b[38;5;241m.\u001b[39mloss(x, y)\n\u001b[0;32m     69\u001b[0m     grads \u001b[38;5;241m=\u001b[39m {}\n\u001b[0;32m     70\u001b[0m     grads[\u001b[38;5;124m'\u001b[39m\u001b[38;5;124mw1\u001b[39m\u001b[38;5;124m'\u001b[39m] \u001b[38;5;241m=\u001b[39m \u001b[38;5;28mself\u001b[39m\u001b[38;5;241m.\u001b[39m_numerical_gradient(loss_w, \u001b[38;5;28mself\u001b[39m\u001b[38;5;241m.\u001b[39mparams[\u001b[38;5;124m'\u001b[39m\u001b[38;5;124mw1\u001b[39m\u001b[38;5;124m'\u001b[39m])\n",
      "File \u001b[1;32md:\\Masters\\Pattern Recognition and Neural Networks\\Assignment 6\\two_layer_net.py:31\u001b[0m, in \u001b[0;36mTwoLayerNet.loss\u001b[1;34m(self, x, y)\u001b[0m\n\u001b[0;32m     30\u001b[0m \u001b[38;5;28;01mdef\u001b[39;00m \u001b[38;5;21mloss\u001b[39m(\u001b[38;5;28mself\u001b[39m, x, y):\n\u001b[1;32m---> 31\u001b[0m     y_hat \u001b[38;5;241m=\u001b[39m \u001b[38;5;28mself\u001b[39m\u001b[38;5;241m.\u001b[39mpredict(x)\n\u001b[0;32m     33\u001b[0m     \u001b[38;5;28;01mreturn\u001b[39;00m \u001b[38;5;28mself\u001b[39m\u001b[38;5;241m.\u001b[39merrors\u001b[38;5;241m.\u001b[39mcross_entropy_error(y_hat, y)\n",
      "File \u001b[1;32md:\\Masters\\Pattern Recognition and Neural Networks\\Assignment 6\\two_layer_net.py:24\u001b[0m, in \u001b[0;36mTwoLayerNet.predict\u001b[1;34m(self, x)\u001b[0m\n\u001b[0;32m     21\u001b[0m b1, b2 \u001b[38;5;241m=\u001b[39m \u001b[38;5;28mself\u001b[39m\u001b[38;5;241m.\u001b[39mparams[\u001b[38;5;124m'\u001b[39m\u001b[38;5;124mb1\u001b[39m\u001b[38;5;124m'\u001b[39m], \u001b[38;5;28mself\u001b[39m\u001b[38;5;241m.\u001b[39mparams[\u001b[38;5;124m'\u001b[39m\u001b[38;5;124mb2\u001b[39m\u001b[38;5;124m'\u001b[39m]\n\u001b[0;32m     23\u001b[0m a1 \u001b[38;5;241m=\u001b[39m np\u001b[38;5;241m.\u001b[39mdot(x, w1) \u001b[38;5;241m+\u001b[39m b1\n\u001b[1;32m---> 24\u001b[0m z1 \u001b[38;5;241m=\u001b[39m \u001b[38;5;28mself\u001b[39m\u001b[38;5;241m.\u001b[39mactivations\u001b[38;5;241m.\u001b[39msigmoid(a1)\n\u001b[0;32m     25\u001b[0m a2 \u001b[38;5;241m=\u001b[39m np\u001b[38;5;241m.\u001b[39mdot(z1, w2) \u001b[38;5;241m+\u001b[39m b2\n\u001b[0;32m     26\u001b[0m y \u001b[38;5;241m=\u001b[39m \u001b[38;5;28mself\u001b[39m\u001b[38;5;241m.\u001b[39mactivations\u001b[38;5;241m.\u001b[39msoftmax(a2)\n",
      "File \u001b[1;32md:\\Masters\\Pattern Recognition and Neural Networks\\Assignment 6\\activations.py:5\u001b[0m, in \u001b[0;36mActivations.sigmoid\u001b[1;34m(self, x)\u001b[0m\n\u001b[0;32m      4\u001b[0m \u001b[38;5;28;01mdef\u001b[39;00m \u001b[38;5;21msigmoid\u001b[39m(\u001b[38;5;28mself\u001b[39m, x):\n\u001b[1;32m----> 5\u001b[0m     \u001b[38;5;28;01mreturn\u001b[39;00m \u001b[38;5;241m1\u001b[39m\u001b[38;5;241m/\u001b[39m(\u001b[38;5;241m1\u001b[39m \u001b[38;5;241m+\u001b[39m np\u001b[38;5;241m.\u001b[39mexp(\u001b[38;5;241m-\u001b[39mx))\n",
      "\u001b[1;31mKeyboardInterrupt\u001b[0m: "
     ]
    }
   ],
   "source": [
    "for i in range(iterations):\n",
    "    batch_mask = np.random.choice(train_size, batch_size)\n",
    "    x_batch = x_train[batch_mask]\n",
    "    y_batch = y_train[batch_mask]\n",
    "\n",
    "    grads = network.numerical_gradient(x_batch, y_batch)\n",
    "\n",
    "    for key in ('w1', 'b1', 'w2', 'b2'):\n",
    "        network.params[key] -= lr*grads[key]\n",
    "\n",
    "    ## this is for plotting losses over time\n",
    "    train_losses.append(network.loss(x_batch, y_batch))\n",
    "\n",
    "    if i%iter_per_ecoph == 0:\n",
    "        train_acc = network.accuracy(x_train, y_train)\n",
    "        train_accs.append(train_acc)\n",
    "        test_acc = network.accuracy(x_test, y_test)\n",
    "        test_accs.append(test_acc)\n",
    "        print(f'train acc, test_acc : {train_acc}, {test_acc}')"
   ]
  },
  {
   "cell_type": "code",
   "execution_count": 97,
   "metadata": {},
   "outputs": [
    {
     "data": {
      "image/png": "[encoded data removed]",
      "text/plain": [
       "<Figure size 640x480 with 1 Axes>"
      ]
     },
     "metadata": {},
     "output_type": "display_data"
    }
   ],
   "source": [
    "markers = {'train': 'o', 'test': 's'}\n",
    "x = np.arange(len(train_accs))\n",
    "plt.plot(x, train_accs, label='train acc')\n",
    "plt.plot(x, test_accs, label='test acc', linestyle='--')\n",
    "plt.xlabel(\"epochs\")\n",
    "plt.ylabel(\"accuracy\")\n",
    "plt.ylim(0, 1.0)\n",
    "plt.legend(loc='lower right')\n",
    "plt.show()"
   ]
  },
  {
   "cell_type": "markdown",
   "metadata": {},
   "source": [
    "## Backpropagation"
   ]
  },
  {
   "cell_type": "code",
   "execution_count": 100,
   "metadata": {},
   "outputs": [],
   "source": [
    "class Relu:\n",
    "    def __init__(self):\n",
    "        self.mask = None\n",
    "\n",
    "    def forward(self,x):\n",
    "        self.mask = (x <= 0)\n",
    "        out = x.copy()\n",
    "        out[self.mask] = 0\n",
    "        return out\n",
    "    \n",
    "    def backward(self, dout):\n",
    "        dout[self.mask] = 0\n",
    "        dx = dout\n",
    "        return dx\n",
    "    \n",
    "class Sigmoid:\n",
    "    def __init__ (self):\n",
    "        self.out = None\n",
    "        self.activations = Activations()\n",
    "\n",
    "    def forward(self,x):\n",
    "        out = self.activations.sigmoid(x)\n",
    "        self.out = out\n",
    "        return out\n",
    "    \n",
    "    def backward(self, dout):\n",
    "        dx = dout *(1.0 - self.out) * self.out\n",
    "        return dx\n",
    "    \n",
    "class Affine:\n",
    "    def __init__(self, w, b):\n",
    "        self.w = w\n",
    "        self.b = b\n",
    "        self.x = None\n",
    "        self.original_x_shape = None\n",
    "        self.dw = None\n",
    "        self.db = None\n",
    "\n",
    "    def forward(self, x):\n",
    "        self.original_x_shape = x.shape\n",
    "        X = x.reshape(x.shape[0],-1)\n",
    "        self.x = x\n",
    "        out = np.dot(self.x, self.w)+ self.b\n",
    "        return out\n",
    "    \n",
    "    def backward(self, dout):\n",
    "        dx = np.dot(dout, self.w.T)\n",
    "        self.dw = np.dot(self.x.T, dout)\n",
    "        self.db = np.sum(dout, axis=0)\n",
    "        dx = dx.reshape(*self.original_x_shape)\n",
    "        return dx\n",
    "    \n",
    "class SoftmaxWithLoss:\n",
    "    def __init__( self):\n",
    "        self.loss = None\n",
    "        self.y_hat = None\n",
    "        self.y = None\n",
    "        self.activations = Activations()\n",
    "        self.errors = Errors()\n",
    "\n",
    "    def forward(self, x, y):\n",
    "        self.y = y\n",
    "        self.y_hat = self.activations.softmax(x)\n",
    "        self.loss = self.errors.cross_entropy_error(self.y_hat, self.y)\n",
    "        return self.loss\n",
    "    \n",
    "    def backward(self, dout=1):\n",
    "        batch_size = self.y.shape[0]\n",
    "        dx = (self.y_hat - self.y)/ batch_size\n",
    "        \"\"\"\n",
    "        else:\n",
    "            dx = self.y_hat.copy()\n",
    "            dx[np.arrange(batch_size), self.t] -=1\n",
    "            dx = dx/batch_size\n",
    "        \"\"\"\n",
    "        return dx\n",
    "\n",
    "\n"
   ]
  },
  {
   "cell_type": "markdown",
   "metadata": {},
   "source": [
    "## Two Layer Net with Backpropagation "
   ]
  },
  {
   "cell_type": "code",
   "execution_count": 101,
   "metadata": {},
   "outputs": [],
   "source": [
    "from activations import Activations\n",
    "from errors import Errors"
   ]
  },
  {
   "cell_type": "code",
   "execution_count": 102,
   "metadata": {},
   "outputs": [],
   "source": [
    "from collections import OrderedDict"
   ]
  },
  {
   "cell_type": "code",
   "execution_count": 103,
   "metadata": {},
   "outputs": [],
   "source": [
    "class TwoLayerNetWithBackprop:\n",
    "    def __init__(self, input_size, hidden_size, output_size, weight_init_std=0.01):\n",
    "        self.params = {}\n",
    "\n",
    "        self.params['w1'] = weight_init_std*np.random.randn(input_size, hidden_size)\n",
    "        self.params['b1'] = np.zeros(hidden_size)\n",
    "\n",
    "        self.params['w2'] = weight_init_std*np.random.randn(hidden_size, output_size)\n",
    "        self.params['b2'] = np.zeros(output_size)\n",
    "\n",
    "        self.activations = Activations()\n",
    "        self.errors = Errors()\n",
    "\n",
    "        # Add Layers\n",
    "        self.layers = OrderedDict()\n",
    "        self.layers['Affine1'] = Affine(self.params['w1'], self.params['b1'])\n",
    "        self.layers['Rele1'] = Relu()\n",
    "        self.layers['Affine2'] = Affine(self.params['w2'], self.params['b2'])\n",
    "\n",
    "        self.last_layer = SoftmaxWithLoss()\n",
    "\n",
    "\n",
    "    def predict(self, x):\n",
    "        ## new implementation for backprop\n",
    "        for layers in self.layers.values():\n",
    "            x = layers.forward(x)\n",
    "        y = x\n",
    "\n",
    "        return y\n",
    "    \n",
    "    def loss(self, x, y):\n",
    "        y_hat = self.predict(x)\n",
    "\n",
    "        #return self.errors.cross_entropy_error(y_hat, y)\n",
    "        return self.last_layer.forward(y_hat, y)\n",
    "\n",
    "    def accuracy(self, x, y):\n",
    "        y_hat = self.predict(x)\n",
    "        p = np.argmax(y_hat, axis=1)\n",
    "        y_p = np.argmax(y, axis=1)\n",
    "\n",
    "        return np.sum(p == y_p)/float(x.shape[0])\n",
    "    \n",
    "\n",
    "    # for multi-dimensional x\n",
    "    def _numerical_gradient(self, f, x):\n",
    "        h = 1e-4 # 0.0001\n",
    "        grad = np.zeros_like(x)\n",
    "        \n",
    "        it = np.nditer(x, flags=['multi_index'], op_flags=['readwrite'])\n",
    "        while not it.finished:\n",
    "            idx = it.multi_index\n",
    "            tmp_val = x[idx]\n",
    "            x[idx] = float(tmp_val) + h\n",
    "            fxh1 = f(x) # f(x+h)\n",
    "            \n",
    "            x[idx] = tmp_val - h \n",
    "            fxh2 = f(x) # f(x-h)\n",
    "            grad[idx] = (fxh1 - fxh2) / (2*h)\n",
    "            \n",
    "            x[idx] = tmp_val \n",
    "            it.iternext()   \n",
    "            \n",
    "        return grad\n",
    "    \n",
    "\n",
    "    def numerical_gradient(self, x, y):\n",
    "        loss_w = lambda w: self.loss(x, y)\n",
    "\n",
    "        grads = {}\n",
    "        grads['w1'] = self._numerical_gradient(loss_w, self.params['w1'])\n",
    "        grads['b1'] = self._numerical_gradient(loss_w, self.params['b1'])\n",
    "        grads['w2'] = self._numerical_gradient(loss_w, self.params['w2'])\n",
    "        grads['b2'] = self._numerical_gradient(loss_w, self.params['b2'])\n",
    "\n",
    "        return grads\n",
    "    \n",
    "    def gradient(self, x, y):\n",
    "        self.loss(x, y)\n",
    "        dout = 1\n",
    "        dout = self.last_layer.backward(dout)\n",
    "\n",
    "        layers = list(self.layers.values())\n",
    "        layers.reverse()\n",
    "        for layer in layers:\n",
    "            dout = layer.backward(dout)\n",
    "\n",
    "        grads = {}\n",
    "        grads['w1'] = self.layers['Affine1'].dw\n",
    "        grads['b1'] = self.layers['Affine1'].db\n",
    "        grads['w2'] = self.layers['Affine2'].dw\n",
    "        grads['b2'] = self.layers['Affine2'].db\n",
    "        return grads"
   ]
  },
  {
   "cell_type": "code",
   "execution_count": 105,
   "metadata": {},
   "outputs": [],
   "source": [
    "from mnist import Mnist"
   ]
  },
  {
   "cell_type": "code",
   "execution_count": 106,
   "metadata": {},
   "outputs": [
    {
     "name": "stdout",
     "output_type": "stream",
     "text": [
      "File: train-images-idx3-ubyte.gz already exists.\n",
      "File: train-labels-idx1-ubyte.gz already exists.\n",
      "File: t10k-images-idx3-ubyte.gz already exists.\n",
      "File: t10k-labels-idx1-ubyte.gz already exists.\n",
      "Pickle: dataset/mnist.pkl already exists.\n",
      "Loading...\n",
      "Done.\n"
     ]
    }
   ],
   "source": [
    "mnist = Mnist()"
   ]
  },
  {
   "cell_type": "code",
   "execution_count": 107,
   "metadata": {},
   "outputs": [],
   "source": [
    "(x_train, y_train), (x_test, y_test) = mnist.load()"
   ]
  },
  {
   "cell_type": "code",
   "execution_count": 108,
   "metadata": {},
   "outputs": [
    {
     "name": "stdout",
     "output_type": "stream",
     "text": [
      "(60000, 784)\n"
     ]
    }
   ],
   "source": [
    "print(x_train.shape)"
   ]
  },
  {
   "cell_type": "code",
   "execution_count": 111,
   "metadata": {},
   "outputs": [],
   "source": [
    "network =  TwoLayerNetWithBackprop(input_size=28*28, hidden_size = 100, output_size=10)"
   ]
  },
  {
   "cell_type": "code",
   "execution_count": 112,
   "metadata": {},
   "outputs": [],
   "source": [
    "iterations = 10000\n",
    "train_size = x_train.shape[0]\n",
    "batch_size = 100\n",
    "lr = 0.1\n",
    "iter_per_epoch = max(train_size/batch_size, 1)"
   ]
  },
  {
   "cell_type": "code",
   "execution_count": 113,
   "metadata": {},
   "outputs": [],
   "source": [
    "train_losses = []\n",
    "train_accs = []\n",
    "test_accs = []"
   ]
  },
  {
   "cell_type": "code",
   "execution_count": 114,
   "metadata": {},
   "outputs": [
    {
     "name": "stdout",
     "output_type": "stream",
     "text": [
      "train_acc, test_acc : 0.1495, 0.1545\n",
      "train_acc, test_acc : 0.9073833333333333, 0.9118\n",
      "train_acc, test_acc : 0.92765, 0.9285\n",
      "train_acc, test_acc : 0.9386333333333333, 0.9367\n",
      "train_acc, test_acc : 0.9498666666666666, 0.9468\n",
      "train_acc, test_acc : 0.9557166666666667, 0.9517\n",
      "train_acc, test_acc : 0.9598166666666667, 0.956\n",
      "train_acc, test_acc : 0.9644, 0.9599\n",
      "train_acc, test_acc : 0.9683833333333334, 0.963\n",
      "train_acc, test_acc : 0.97225, 0.9657\n",
      "train_acc, test_acc : 0.9744666666666667, 0.9681\n",
      "train_acc, test_acc : 0.9755666666666667, 0.9676\n",
      "train_acc, test_acc : 0.97735, 0.9697\n",
      "train_acc, test_acc : 0.9797, 0.9709\n",
      "train_acc, test_acc : 0.98125, 0.972\n",
      "train_acc, test_acc : 0.9827, 0.9742\n",
      "train_acc, test_acc : 0.9839666666666667, 0.9744\n"
     ]
    }
   ],
   "source": [
    "for i in range(iterations):\n",
    "    batch_mask = np.random.choice(train_size, batch_size)\n",
    "    x_batch = x_train[batch_mask]\n",
    "    y_batch = y_train[batch_mask]\n",
    "\n",
    "    grads = network.gradient(x_batch, y_batch)\n",
    "    \n",
    "    for key in ('w1', 'b1', 'w2', 'b2'):\n",
    "        network.params[key] -= lr*grads[key]\n",
    "\n",
    "    ## This is for plotting losses over time\n",
    "    train_losses.append(network.loss(x_batch, y_batch))\n",
    "\n",
    "    if i%iter_per_epoch ==0:\n",
    "        train_acc = network.accuracy(x_train, y_train)\n",
    "        train_accs.append(train_acc)\n",
    "        test_acc = network.accuracy(x_test, y_test)\n",
    "        test_accs .append(test_acc)\n",
    "        print(f\"train_acc, test_acc : {train_acc}, {test_acc}\")\n",
    "        "
   ]
  },
  {
   "cell_type": "code",
   "execution_count": 119,
   "metadata": {},
   "outputs": [
    {
     "data": {
      "text/plain": [
       "<function matplotlib.pyplot.show(close=None, block=None)>"
      ]
     },
     "execution_count": 119,
     "metadata": {},
     "output_type": "execute_result"
    },
    {
     "data": {
      "image/png": "[encoded data removed]",
      "text/plain": [
       "<Figure size 640x480 with 1 Axes>"
      ]
     },
     "metadata": {},
     "output_type": "display_data"
    }
   ],
   "source": [
    "markers = {'train': 'o', 'test': 's'}\n",
    "x = np.arange(len(train_accs))\n",
    "plt.plot(x, train_accs, label='Train acc')\n",
    "plt.plot(x, test_accs, label='Test acc', linestyle='--')\n",
    "plt.xlabel(\"epochs\")\n",
    "plt.ylabel(\"accuracy\")\n",
    "plt.ylim(0, 1.0)\n",
    "plt.legend(loc='lower right')\n",
    "plt.show"
   ]
  },
  {
   "cell_type": "code",
   "execution_count": 125,
   "metadata": {},
   "outputs": [],
   "source": [
    "import numpy as np\n",
    "import pickle\n",
    "my_weight_pkl_file = 'RishiD_weights.pkl'"
   ]
  },
  {
   "cell_type": "code",
   "execution_count": 126,
   "metadata": {},
   "outputs": [
    {
     "name": "stdout",
     "output_type": "stream",
     "text": [
      "Pickle: RishiD_weights.pkl is being created.\n",
      "Done\n"
     ]
    }
   ],
   "source": [
    "\n",
    "with open(f'{my_weight_pkl_file}','wb') as f:\n",
    "    print(f'Pickle: {my_weight_pkl_file} is being created.')\n",
    "    pickle.dump(network.params, f)\n",
    "    print('Done')"
   ]
  },
  {
   "cell_type": "code",
   "execution_count": 152,
   "metadata": {},
   "outputs": [],
   "source": [
    "network.params = None"
   ]
  },
  {
   "cell_type": "markdown",
   "metadata": {},
   "source": [
    "## Using your own TwoLayerNet model"
   ]
  },
  {
   "cell_type": "code",
   "execution_count": 153,
   "metadata": {},
   "outputs": [],
   "source": [
    "network = TwoLayerNetWithBackprop(input_size=28*28, hidden_size=100, output_size=10)"
   ]
  },
  {
   "cell_type": "code",
   "execution_count": 154,
   "metadata": {},
   "outputs": [],
   "source": [
    "with open(f'{my_weight_pkl_file}', 'rb') as f:\n",
    "    network.params = pickle.load(f)"
   ]
  },
  {
   "cell_type": "code",
   "execution_count": 155,
   "metadata": {},
   "outputs": [],
   "source": [
    "from mnist import Mnist"
   ]
  },
  {
   "cell_type": "code",
   "execution_count": 156,
   "metadata": {},
   "outputs": [
    {
     "name": "stdout",
     "output_type": "stream",
     "text": [
      "File: train-images-idx3-ubyte.gz already exists.\n",
      "File: train-labels-idx1-ubyte.gz already exists.\n",
      "File: t10k-images-idx3-ubyte.gz already exists.\n",
      "File: t10k-labels-idx1-ubyte.gz already exists.\n",
      "Pickle: dataset/mnist.pkl already exists.\n",
      "Loading...\n",
      "Done.\n"
     ]
    }
   ],
   "source": [
    "mnist = Mnist()\n",
    "(_, _), (x_test, y_test) = mnist.load()"
   ]
  },
  {
   "cell_type": "code",
   "execution_count": 157,
   "metadata": {},
   "outputs": [],
   "source": [
    "y_hat = network.predict(x_test[0:100])"
   ]
  },
  {
   "cell_type": "code",
   "execution_count": 158,
   "metadata": {},
   "outputs": [],
   "source": [
    "import matplotlib.pyplot as plt"
   ]
  },
  {
   "cell_type": "code",
   "execution_count": 159,
   "metadata": {},
   "outputs": [
    {
     "data": {
      "text/plain": [
       "<matplotlib.image.AxesImage at 0x190ff3d0410>"
      ]
     },
     "execution_count": 159,
     "metadata": {},
     "output_type": "execute_result"
    },
    {
     "data": {
      "image/png": "[encoded data removed]",
      "text/plain": [
       "<Figure size 640x480 with 1 Axes>"
      ]
     },
     "metadata": {},
     "output_type": "display_data"
    }
   ],
   "source": [
    "plt.imshow(x_test[10].reshape(28, 28))"
   ]
  },
  {
   "cell_type": "code",
   "execution_count": 165,
   "metadata": {},
   "outputs": [
    {
     "data": {
      "text/plain": [
       "array([-0.00591953,  0.00437704,  0.01958646,  0.00836835, -0.01310121,\n",
       "       -0.00313588,  0.00131254, -0.00474462, -0.00316704, -0.00919528])"
      ]
     },
     "execution_count": 165,
     "metadata": {},
     "output_type": "execute_result"
    }
   ],
   "source": [
    "y_hat[10]"
   ]
  },
  {
   "cell_type": "code",
   "execution_count": 160,
   "metadata": {},
   "outputs": [
    {
     "data": {
      "text/plain": [
       "np.int64(2)"
      ]
     },
     "execution_count": 160,
     "metadata": {},
     "output_type": "execute_result"
    }
   ],
   "source": [
    "np.argmax(y_hat[10]) "
   ]
  },
  {
   "cell_type": "code",
   "execution_count": 164,
   "metadata": {},
   "outputs": [
    {
     "data": {
      "text/plain": [
       "np.int64(0)"
      ]
     },
     "execution_count": 164,
     "metadata": {},
     "output_type": "execute_result"
    }
   ],
   "source": [
    "np.argmax(y_test[10])"
   ]
  }
 ],
 "metadata": {
  "kernelspec": {
   "display_name": "ece5831-2024",
   "language": "python",
   "name": "python3"
  },
  "language_info": {
   "codemirror_mode": {
    "name": "ipython",
    "version": 3
   },
   "file_extension": ".py",
   "mimetype": "text/x-python",
   "name": "python",
   "nbconvert_exporter": "python",
   "pygments_lexer": "ipython3",
   "version": "3.12.5"
  }
 },
 "nbformat": 4,
 "nbformat_minor": 2
}
